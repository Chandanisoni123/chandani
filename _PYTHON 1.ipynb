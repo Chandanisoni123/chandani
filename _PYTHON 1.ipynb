{
 "cells": [
  {
   "cell_type": "code",
   "execution_count": 1,
   "id": "a3b67493",
   "metadata": {},
   "outputs": [],
   "source": [
    "a={12,45,88,\"vhdhb\",True,45+6j,25.36}"
   ]
  },
  {
   "cell_type": "code",
   "execution_count": 2,
   "id": "53fbe455",
   "metadata": {},
   "outputs": [
    {
     "data": {
      "text/plain": [
       "set"
      ]
     },
     "execution_count": 2,
     "metadata": {},
     "output_type": "execute_result"
    }
   ],
   "source": [
    "type(a)"
   ]
  },
  {
   "cell_type": "code",
   "execution_count": 5,
   "id": "6504c416",
   "metadata": {},
   "outputs": [],
   "source": [
    "b={\"a\":\"gfhg\",\"b\":\"hgfgjj\",\"c\":25252}"
   ]
  },
  {
   "cell_type": "code",
   "execution_count": 6,
   "id": "74746d37",
   "metadata": {},
   "outputs": [
    {
     "data": {
      "text/plain": [
       "dict"
      ]
     },
     "execution_count": 6,
     "metadata": {},
     "output_type": "execute_result"
    }
   ],
   "source": [
    "type(b)"
   ]
  },
  {
   "cell_type": "code",
   "execution_count": 7,
   "id": "da12b115",
   "metadata": {},
   "outputs": [],
   "source": [
    "c=(12,25,25,\"hdgfhhhg\",True,12+4j,52.36)"
   ]
  },
  {
   "cell_type": "code",
   "execution_count": 8,
   "id": "d6e09039",
   "metadata": {},
   "outputs": [
    {
     "data": {
      "text/plain": [
       "tuple"
      ]
     },
     "execution_count": 8,
     "metadata": {},
     "output_type": "execute_result"
    }
   ],
   "source": [
    "type(c)"
   ]
  },
  {
   "cell_type": "code",
   "execution_count": 9,
   "id": "bedd866e",
   "metadata": {},
   "outputs": [],
   "source": [
    "d=(125,5696,48985,556,\"25654\",\"fjhfjh\")"
   ]
  },
  {
   "cell_type": "code",
   "execution_count": 10,
   "id": "d74c2c67",
   "metadata": {},
   "outputs": [
    {
     "data": {
      "text/plain": [
       "tuple"
      ]
     },
     "execution_count": 10,
     "metadata": {},
     "output_type": "execute_result"
    }
   ],
   "source": [
    "type(d)"
   ]
  },
  {
   "cell_type": "code",
   "execution_count": 12,
   "id": "bad8eddb",
   "metadata": {},
   "outputs": [],
   "source": [
    "e={125,5696,48985,556,\"25654\",\"fjhfjh\"}"
   ]
  },
  {
   "cell_type": "code",
   "execution_count": 13,
   "id": "b21eac06",
   "metadata": {},
   "outputs": [
    {
     "data": {
      "text/plain": [
       "set"
      ]
     },
     "execution_count": 13,
     "metadata": {},
     "output_type": "execute_result"
    }
   ],
   "source": [
    "type(e)"
   ]
  },
  {
   "cell_type": "code",
   "execution_count": null,
   "id": "a09c5ff6",
   "metadata": {},
   "outputs": [],
   "source": []
  },
  {
   "cell_type": "code",
   "execution_count": null,
   "id": "a015cc22",
   "metadata": {},
   "outputs": [],
   "source": []
  }
 ],
 "metadata": {
  "kernelspec": {
   "display_name": "Python 3 (ipykernel)",
   "language": "python",
   "name": "python3"
  },
  "language_info": {
   "codemirror_mode": {
    "name": "ipython",
    "version": 3
   },
   "file_extension": ".py",
   "mimetype": "text/x-python",
   "name": "python",
   "nbconvert_exporter": "python",
   "pygments_lexer": "ipython3",
   "version": "3.9.12"
  }
 },
 "nbformat": 4,
 "nbformat_minor": 5
}
