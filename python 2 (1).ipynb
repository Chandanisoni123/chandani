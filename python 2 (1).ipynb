{
 "cells": [
  {
   "cell_type": "code",
   "execution_count": 1,
   "id": "a238f7f7",
   "metadata": {},
   "outputs": [],
   "source": [
    "a=\"chandani\""
   ]
  },
  {
   "cell_type": "code",
   "execution_count": 2,
   "id": "da813dde",
   "metadata": {},
   "outputs": [
    {
     "data": {
      "text/plain": [
       "str"
      ]
     },
     "execution_count": 2,
     "metadata": {},
     "output_type": "execute_result"
    }
   ],
   "source": [
    "type(a)"
   ]
  },
  {
   "cell_type": "code",
   "execution_count": 3,
   "id": "14f29bf7",
   "metadata": {},
   "outputs": [
    {
     "data": {
      "text/plain": [
       "'c'"
      ]
     },
     "execution_count": 3,
     "metadata": {},
     "output_type": "execute_result"
    }
   ],
   "source": [
    "a[0]"
   ]
  },
  {
   "cell_type": "code",
   "execution_count": 5,
   "id": "2fe3880d",
   "metadata": {},
   "outputs": [
    {
     "data": {
      "text/plain": [
       "'i'"
      ]
     },
     "execution_count": 5,
     "metadata": {},
     "output_type": "execute_result"
    }
   ],
   "source": [
    "a[7]"
   ]
  },
  {
   "cell_type": "code",
   "execution_count": 6,
   "id": "c0326cef",
   "metadata": {},
   "outputs": [
    {
     "data": {
      "text/plain": [
       "'i'"
      ]
     },
     "execution_count": 6,
     "metadata": {},
     "output_type": "execute_result"
    }
   ],
   "source": [
    "a[-1]"
   ]
  },
  {
   "cell_type": "code",
   "execution_count": 7,
   "id": "71aabff7",
   "metadata": {},
   "outputs": [
    {
     "data": {
      "text/plain": [
       "'n'"
      ]
     },
     "execution_count": 7,
     "metadata": {},
     "output_type": "execute_result"
    }
   ],
   "source": [
    "a[-5]"
   ]
  },
  {
   "cell_type": "code",
   "execution_count": 8,
   "id": "93eb3585",
   "metadata": {},
   "outputs": [],
   "source": [
    "b='sudh'"
   ]
  },
  {
   "cell_type": "code",
   "execution_count": 9,
   "id": "45562417",
   "metadata": {},
   "outputs": [
    {
     "data": {
      "text/plain": [
       "'u'"
      ]
     },
     "execution_count": 9,
     "metadata": {},
     "output_type": "execute_result"
    }
   ],
   "source": [
    "b[1]"
   ]
  },
  {
   "cell_type": "code",
   "execution_count": 10,
   "id": "efb82065",
   "metadata": {},
   "outputs": [
    {
     "data": {
      "text/plain": [
       "'h'"
      ]
     },
     "execution_count": 10,
     "metadata": {},
     "output_type": "execute_result"
    }
   ],
   "source": [
    "b[-1]"
   ]
  },
  {
   "cell_type": "code",
   "execution_count": 3,
   "id": "c499ce4d",
   "metadata": {},
   "outputs": [],
   "source": [
    "c=\"this is my first class's\""
   ]
  },
  {
   "cell_type": "code",
   "execution_count": 13,
   "id": "99fe2a7f",
   "metadata": {},
   "outputs": [
    {
     "data": {
      "text/plain": [
       "\"this is my first class's\""
      ]
     },
     "execution_count": 13,
     "metadata": {},
     "output_type": "execute_result"
    }
   ],
   "source": [
    "c"
   ]
  },
  {
   "cell_type": "code",
   "execution_count": 14,
   "id": "67228f1b",
   "metadata": {},
   "outputs": [
    {
     "data": {
      "text/plain": [
       "'m'"
      ]
     },
     "execution_count": 14,
     "metadata": {},
     "output_type": "execute_result"
    }
   ],
   "source": [
    "c[8]"
   ]
  },
  {
   "cell_type": "code",
   "execution_count": 15,
   "id": "3dc8d817",
   "metadata": {},
   "outputs": [
    {
     "data": {
      "text/plain": [
       "'s'"
      ]
     },
     "execution_count": 15,
     "metadata": {},
     "output_type": "execute_result"
    }
   ],
   "source": [
    "c[6]"
   ]
  },
  {
   "cell_type": "code",
   "execution_count": 4,
   "id": "ceb9df59",
   "metadata": {},
   "outputs": [
    {
     "data": {
      "text/plain": [
       "''"
      ]
     },
     "execution_count": 4,
     "metadata": {},
     "output_type": "execute_result"
    }
   ],
   "source": [
    "c[6:0]"
   ]
  },
  {
   "cell_type": "code",
   "execution_count": 16,
   "id": "b9df66e8",
   "metadata": {},
   "outputs": [
    {
     "data": {
      "text/plain": [
       "'this i'"
      ]
     },
     "execution_count": 16,
     "metadata": {},
     "output_type": "execute_result"
    }
   ],
   "source": [
    "c[0:6]"
   ]
  },
  {
   "cell_type": "code",
   "execution_count": 17,
   "id": "6a8b485a",
   "metadata": {},
   "outputs": [
    {
     "data": {
      "text/plain": [
       "'s my '"
      ]
     },
     "execution_count": 17,
     "metadata": {},
     "output_type": "execute_result"
    }
   ],
   "source": [
    "c[6:11]"
   ]
  },
  {
   "cell_type": "code",
   "execution_count": 18,
   "id": "42f79b7b",
   "metadata": {},
   "outputs": [
    {
     "data": {
      "text/plain": [
       "'ti sm'"
      ]
     },
     "execution_count": 18,
     "metadata": {},
     "output_type": "execute_result"
    }
   ],
   "source": [
    "c[0:9:2]"
   ]
  },
  {
   "cell_type": "code",
   "execution_count": 19,
   "id": "8af80259",
   "metadata": {},
   "outputs": [
    {
     "data": {
      "text/plain": [
       "'si yf'"
      ]
     },
     "execution_count": 19,
     "metadata": {},
     "output_type": "execute_result"
    }
   ],
   "source": [
    "c[3:12:2]"
   ]
  },
  {
   "cell_type": "code",
   "execution_count": 1,
   "id": "e855f69b",
   "metadata": {},
   "outputs": [],
   "source": [
    "d=\"shivam\""
   ]
  },
  {
   "cell_type": "code",
   "execution_count": 21,
   "id": "e102d7d8",
   "metadata": {},
   "outputs": [
    {
     "data": {
      "text/plain": [
       "'sia'"
      ]
     },
     "execution_count": 21,
     "metadata": {},
     "output_type": "execute_result"
    }
   ],
   "source": [
    "d[0:6:2]"
   ]
  },
  {
   "cell_type": "code",
   "execution_count": 5,
   "id": "e60a77d8",
   "metadata": {},
   "outputs": [
    {
     "data": {
      "text/plain": [
       "''"
      ]
     },
     "execution_count": 5,
     "metadata": {},
     "output_type": "execute_result"
    }
   ],
   "source": [
    "d[5:4:2]"
   ]
  },
  {
   "cell_type": "code",
   "execution_count": 22,
   "id": "3aa4e676",
   "metadata": {},
   "outputs": [
    {
     "data": {
      "text/plain": [
       "'shivam'"
      ]
     },
     "execution_count": 22,
     "metadata": {},
     "output_type": "execute_result"
    }
   ],
   "source": [
    "d[0:6:1]"
   ]
  },
  {
   "cell_type": "code",
   "execution_count": 23,
   "id": "77a2b125",
   "metadata": {},
   "outputs": [
    {
     "data": {
      "text/plain": [
       "'shivam'"
      ]
     },
     "execution_count": 23,
     "metadata": {},
     "output_type": "execute_result"
    }
   ],
   "source": [
    "d"
   ]
  },
  {
   "cell_type": "code",
   "execution_count": 3,
   "id": "1ca72595",
   "metadata": {},
   "outputs": [
    {
     "data": {
      "text/plain": [
       "''"
      ]
     },
     "execution_count": 3,
     "metadata": {},
     "output_type": "execute_result"
    }
   ],
   "source": [
    "d[0:6:-1]"
   ]
  },
  {
   "cell_type": "code",
   "execution_count": 4,
   "id": "d4f9b1e6",
   "metadata": {},
   "outputs": [
    {
     "data": {
      "text/plain": [
       "''"
      ]
     },
     "execution_count": 4,
     "metadata": {},
     "output_type": "execute_result"
    }
   ],
   "source": [
    "d[1:4:-2]"
   ]
  },
  {
   "cell_type": "code",
   "execution_count": 6,
   "id": "667c15cb",
   "metadata": {},
   "outputs": [
    {
     "data": {
      "text/plain": [
       "'mavih'"
      ]
     },
     "execution_count": 6,
     "metadata": {},
     "output_type": "execute_result"
    }
   ],
   "source": [
    "d[6:0:-1]"
   ]
  },
  {
   "cell_type": "code",
   "execution_count": 7,
   "id": "9dc17d18",
   "metadata": {},
   "outputs": [
    {
     "data": {
      "text/plain": [
       "'ai'"
      ]
     },
     "execution_count": 7,
     "metadata": {},
     "output_type": "execute_result"
    }
   ],
   "source": [
    "d[4:0:-2]"
   ]
  },
  {
   "cell_type": "code",
   "execution_count": 8,
   "id": "257de970",
   "metadata": {},
   "outputs": [],
   "source": [
    "e=\"aradhya\""
   ]
  },
  {
   "cell_type": "code",
   "execution_count": 9,
   "id": "bd3d858b",
   "metadata": {},
   "outputs": [
    {
     "data": {
      "text/plain": [
       "'arad'"
      ]
     },
     "execution_count": 9,
     "metadata": {},
     "output_type": "execute_result"
    }
   ],
   "source": [
    "e[:-3]"
   ]
  },
  {
   "cell_type": "code",
   "execution_count": 10,
   "id": "9a79444f",
   "metadata": {},
   "outputs": [
    {
     "data": {
      "text/plain": [
       "''"
      ]
     },
     "execution_count": 10,
     "metadata": {},
     "output_type": "execute_result"
    }
   ],
   "source": [
    "e[:-8]"
   ]
  },
  {
   "cell_type": "code",
   "execution_count": 12,
   "id": "edad7550",
   "metadata": {},
   "outputs": [
    {
     "data": {
      "text/plain": [
       "'a'"
      ]
     },
     "execution_count": 12,
     "metadata": {},
     "output_type": "execute_result"
    }
   ],
   "source": [
    "e[:-6]"
   ]
  },
  {
   "cell_type": "code",
   "execution_count": 13,
   "id": "574e5b84",
   "metadata": {},
   "outputs": [
    {
     "data": {
      "text/plain": [
       "'a'"
      ]
     },
     "execution_count": 13,
     "metadata": {},
     "output_type": "execute_result"
    }
   ],
   "source": [
    "e[-1:]"
   ]
  },
  {
   "cell_type": "code",
   "execution_count": 14,
   "id": "6d4c661c",
   "metadata": {},
   "outputs": [
    {
     "data": {
      "text/plain": [
       "'adhya'"
      ]
     },
     "execution_count": 14,
     "metadata": {},
     "output_type": "execute_result"
    }
   ],
   "source": [
    "e[-5:]"
   ]
  },
  {
   "cell_type": "code",
   "execution_count": 15,
   "id": "5303dffb",
   "metadata": {},
   "outputs": [],
   "source": [
    "f=\"gajni\""
   ]
  },
  {
   "cell_type": "code",
   "execution_count": 16,
   "id": "8d45b4df",
   "metadata": {},
   "outputs": [
    {
     "data": {
      "text/plain": [
       "'gajni'"
      ]
     },
     "execution_count": 16,
     "metadata": {},
     "output_type": "execute_result"
    }
   ],
   "source": [
    "f[::1]"
   ]
  },
  {
   "cell_type": "code",
   "execution_count": 22,
   "id": "8d150180",
   "metadata": {},
   "outputs": [
    {
     "data": {
      "text/plain": [
       "'gajni'"
      ]
     },
     "execution_count": 22,
     "metadata": {},
     "output_type": "execute_result"
    }
   ],
   "source": [
    "f[0:50:1]"
   ]
  },
  {
   "cell_type": "code",
   "execution_count": 17,
   "id": "26cf09ff",
   "metadata": {},
   "outputs": [
    {
     "data": {
      "text/plain": [
       "'g'"
      ]
     },
     "execution_count": 17,
     "metadata": {},
     "output_type": "execute_result"
    }
   ],
   "source": [
    "f[::5]"
   ]
  },
  {
   "cell_type": "code",
   "execution_count": 18,
   "id": "0ddabc1c",
   "metadata": {},
   "outputs": [
    {
     "data": {
      "text/plain": [
       "'gi'"
      ]
     },
     "execution_count": 18,
     "metadata": {},
     "output_type": "execute_result"
    }
   ],
   "source": [
    "f[::4]"
   ]
  },
  {
   "cell_type": "code",
   "execution_count": 23,
   "id": "5f29af95",
   "metadata": {},
   "outputs": [],
   "source": [
    "h=\"mohammad\""
   ]
  },
  {
   "cell_type": "code",
   "execution_count": 24,
   "id": "a69f153a",
   "metadata": {},
   "outputs": [
    {
     "data": {
      "text/plain": [
       "'dammahom'"
      ]
     },
     "execution_count": 24,
     "metadata": {},
     "output_type": "execute_result"
    }
   ],
   "source": [
    "h[::-1]"
   ]
  },
  {
   "cell_type": "code",
   "execution_count": 25,
   "id": "3bdf582d",
   "metadata": {},
   "outputs": [
    {
     "data": {
      "text/plain": [
       "'dh'"
      ]
     },
     "execution_count": 25,
     "metadata": {},
     "output_type": "execute_result"
    }
   ],
   "source": [
    "h[::-5]"
   ]
  },
  {
   "cell_type": "code",
   "execution_count": 4,
   "id": "45a770d9",
   "metadata": {},
   "outputs": [],
   "source": [
    "k=\"vashundhara\""
   ]
  },
  {
   "cell_type": "code",
   "execution_count": 5,
   "id": "5b2411fe",
   "metadata": {},
   "outputs": [
    {
     "data": {
      "text/plain": [
       "''"
      ]
     },
     "execution_count": 5,
     "metadata": {},
     "output_type": "execute_result"
    }
   ],
   "source": [
    "k[-1:-5:7]"
   ]
  },
  {
   "cell_type": "code",
   "execution_count": 6,
   "id": "46fb82f1",
   "metadata": {},
   "outputs": [],
   "source": [
    "l=\"surajjyoti\""
   ]
  },
  {
   "cell_type": "code",
   "execution_count": 7,
   "id": "99986202",
   "metadata": {},
   "outputs": [
    {
     "data": {
      "text/plain": [
       "'it'"
      ]
     },
     "execution_count": 7,
     "metadata": {},
     "output_type": "execute_result"
    }
   ],
   "source": [
    "l[-1:-3:-1]"
   ]
  },
  {
   "cell_type": "code",
   "execution_count": 9,
   "id": "1fef39e7",
   "metadata": {},
   "outputs": [
    {
     "data": {
      "text/plain": [
       "'itoyjjarus'"
      ]
     },
     "execution_count": 9,
     "metadata": {},
     "output_type": "execute_result"
    }
   ],
   "source": [
    "l[-1::-1]"
   ]
  },
  {
   "cell_type": "code",
   "execution_count": 10,
   "id": "686519b9",
   "metadata": {},
   "outputs": [
    {
     "data": {
      "text/plain": [
       "'surajjyoti'"
      ]
     },
     "execution_count": 10,
     "metadata": {},
     "output_type": "execute_result"
    }
   ],
   "source": [
    "l"
   ]
  },
  {
   "cell_type": "code",
   "execution_count": 11,
   "id": "74c0b4f1",
   "metadata": {},
   "outputs": [
    {
     "data": {
      "text/plain": [
       "'io'"
      ]
     },
     "execution_count": 11,
     "metadata": {},
     "output_type": "execute_result"
    }
   ],
   "source": [
    "l[-1:-5:-2]"
   ]
  },
  {
   "cell_type": "code",
   "execution_count": 12,
   "id": "219dab8c",
   "metadata": {},
   "outputs": [
    {
     "data": {
      "text/plain": [
       "''"
      ]
     },
     "execution_count": 12,
     "metadata": {},
     "output_type": "execute_result"
    }
   ],
   "source": [
    "l[-2:-5:2]"
   ]
  },
  {
   "cell_type": "code",
   "execution_count": 13,
   "id": "0a07ad96",
   "metadata": {},
   "outputs": [
    {
     "data": {
      "text/plain": [
       "'jo'"
      ]
     },
     "execution_count": 13,
     "metadata": {},
     "output_type": "execute_result"
    }
   ],
   "source": [
    "l[-5:-2:2]"
   ]
  },
  {
   "cell_type": "code",
   "execution_count": 14,
   "id": "bec9d214",
   "metadata": {},
   "outputs": [],
   "source": [
    "m=\"puchusatna\""
   ]
  },
  {
   "cell_type": "code",
   "execution_count": 15,
   "id": "f4eed9c2",
   "metadata": {},
   "outputs": [
    {
     "data": {
      "text/plain": [
       "''"
      ]
     },
     "execution_count": 15,
     "metadata": {},
     "output_type": "execute_result"
    }
   ],
   "source": [
    "m[-4:-6:2]"
   ]
  },
  {
   "cell_type": "code",
   "execution_count": 16,
   "id": "f9c292f7",
   "metadata": {},
   "outputs": [
    {
     "data": {
      "text/plain": [
       "'a'"
      ]
     },
     "execution_count": 16,
     "metadata": {},
     "output_type": "execute_result"
    }
   ],
   "source": [
    "m[-4:-6:-2]"
   ]
  },
  {
   "cell_type": "code",
   "execution_count": 17,
   "id": "301e1c35",
   "metadata": {},
   "outputs": [
    {
     "data": {
      "text/plain": [
       "'puchusatna'"
      ]
     },
     "execution_count": 17,
     "metadata": {},
     "output_type": "execute_result"
    }
   ],
   "source": [
    "m"
   ]
  },
  {
   "cell_type": "code",
   "execution_count": 18,
   "id": "0cfc22f4",
   "metadata": {},
   "outputs": [
    {
     "data": {
      "text/plain": [
       "''"
      ]
     },
     "execution_count": 18,
     "metadata": {},
     "output_type": "execute_result"
    }
   ],
   "source": [
    "m[-3:-5:2]"
   ]
  },
  {
   "cell_type": "code",
   "execution_count": 19,
   "id": "ce14c7e8",
   "metadata": {},
   "outputs": [
    {
     "data": {
      "text/plain": [
       "'s'"
      ]
     },
     "execution_count": 19,
     "metadata": {},
     "output_type": "execute_result"
    }
   ],
   "source": [
    "m[-5:-3:2]"
   ]
  },
  {
   "cell_type": "code",
   "execution_count": 20,
   "id": "23ac8b70",
   "metadata": {},
   "outputs": [
    {
     "data": {
      "text/plain": [
       "'t'"
      ]
     },
     "execution_count": 20,
     "metadata": {},
     "output_type": "execute_result"
    }
   ],
   "source": [
    "m[-3:-5:-2]"
   ]
  },
  {
   "cell_type": "code",
   "execution_count": 22,
   "id": "796ba4b1",
   "metadata": {},
   "outputs": [
    {
     "data": {
      "text/plain": [
       "''"
      ]
     },
     "execution_count": 22,
     "metadata": {},
     "output_type": "execute_result"
    }
   ],
   "source": [
    "m[-5:-3:-2]"
   ]
  },
  {
   "cell_type": "code",
   "execution_count": 23,
   "id": "27407d47",
   "metadata": {},
   "outputs": [
    {
     "data": {
      "text/plain": [
       "''"
      ]
     },
     "execution_count": 23,
     "metadata": {},
     "output_type": "execute_result"
    }
   ],
   "source": [
    "m[3:5:-2]"
   ]
  },
  {
   "cell_type": "code",
   "execution_count": 24,
   "id": "ae44128e",
   "metadata": {},
   "outputs": [
    {
     "data": {
      "text/plain": [
       "'s'"
      ]
     },
     "execution_count": 24,
     "metadata": {},
     "output_type": "execute_result"
    }
   ],
   "source": [
    "m[5:3:-2]"
   ]
  },
  {
   "cell_type": "code",
   "execution_count": 27,
   "id": "28663528",
   "metadata": {},
   "outputs": [
    {
     "data": {
      "text/plain": [
       "'pun'"
      ]
     },
     "execution_count": 27,
     "metadata": {},
     "output_type": "execute_result"
    }
   ],
   "source": [
    "m[::4]"
   ]
  },
  {
   "cell_type": "code",
   "execution_count": 26,
   "id": "95dbffff",
   "metadata": {},
   "outputs": [
    {
     "data": {
      "text/plain": [
       "'au'"
      ]
     },
     "execution_count": 26,
     "metadata": {},
     "output_type": "execute_result"
    }
   ],
   "source": [
    "m[::-5]"
   ]
  },
  {
   "cell_type": "code",
   "execution_count": 28,
   "id": "c2b72834",
   "metadata": {},
   "outputs": [
    {
     "data": {
      "text/plain": [
       "'satna'"
      ]
     },
     "execution_count": 28,
     "metadata": {},
     "output_type": "execute_result"
    }
   ],
   "source": [
    "m[-5:]"
   ]
  },
  {
   "cell_type": "code",
   "execution_count": 29,
   "id": "d160a4bf",
   "metadata": {},
   "outputs": [
    {
     "data": {
      "text/plain": [
       "'puch'"
      ]
     },
     "execution_count": 29,
     "metadata": {},
     "output_type": "execute_result"
    }
   ],
   "source": [
    "m[:-6]"
   ]
  },
  {
   "cell_type": "code",
   "execution_count": 25,
   "id": "06f10f81",
   "metadata": {},
   "outputs": [],
   "source": [
    "n=\"mahadevsarkar\""
   ]
  },
  {
   "cell_type": "code",
   "execution_count": 30,
   "id": "81928c71",
   "metadata": {},
   "outputs": [
    {
     "data": {
      "text/plain": [
       "'mahadev'"
      ]
     },
     "execution_count": 30,
     "metadata": {},
     "output_type": "execute_result"
    }
   ],
   "source": [
    "n[:-6]"
   ]
  },
  {
   "cell_type": "code",
   "execution_count": 31,
   "id": "71550e20",
   "metadata": {},
   "outputs": [
    {
     "data": {
      "text/plain": [
       "'arkar'"
      ]
     },
     "execution_count": 31,
     "metadata": {},
     "output_type": "execute_result"
    }
   ],
   "source": [
    "n[-5:]"
   ]
  },
  {
   "cell_type": "code",
   "execution_count": 32,
   "id": "d412c336",
   "metadata": {},
   "outputs": [
    {
     "data": {
      "text/plain": [
       "'mahad'"
      ]
     },
     "execution_count": 32,
     "metadata": {},
     "output_type": "execute_result"
    }
   ],
   "source": [
    "n[:-8]"
   ]
  },
  {
   "cell_type": "code",
   "execution_count": 33,
   "id": "2011e676",
   "metadata": {},
   "outputs": [
    {
     "data": {
      "text/plain": [
       "'devsarkar'"
      ]
     },
     "execution_count": 33,
     "metadata": {},
     "output_type": "execute_result"
    }
   ],
   "source": [
    "n[-9:]"
   ]
  },
  {
   "cell_type": "code",
   "execution_count": 34,
   "id": "5b3a66f6",
   "metadata": {},
   "outputs": [
    {
     "data": {
      "text/plain": [
       "'mdar'"
      ]
     },
     "execution_count": 34,
     "metadata": {},
     "output_type": "execute_result"
    }
   ],
   "source": [
    "n[::4]"
   ]
  },
  {
   "cell_type": "code",
   "execution_count": 35,
   "id": "60a56004",
   "metadata": {},
   "outputs": [
    {
     "data": {
      "text/plain": [
       "'mk'"
      ]
     },
     "execution_count": 35,
     "metadata": {},
     "output_type": "execute_result"
    }
   ],
   "source": [
    "n[::10]"
   ]
  },
  {
   "cell_type": "code",
   "execution_count": 36,
   "id": "1591abb9",
   "metadata": {},
   "outputs": [
    {
     "data": {
      "text/plain": [
       "'rsh'"
      ]
     },
     "execution_count": 36,
     "metadata": {},
     "output_type": "execute_result"
    }
   ],
   "source": [
    "n[::-5]"
   ]
  },
  {
   "cell_type": "code",
   "execution_count": 37,
   "id": "d7aac81f",
   "metadata": {},
   "outputs": [
    {
     "data": {
      "text/plain": [
       "'ra'"
      ]
     },
     "execution_count": 37,
     "metadata": {},
     "output_type": "execute_result"
    }
   ],
   "source": [
    "n[-1:-3:-1]"
   ]
  },
  {
   "cell_type": "code",
   "execution_count": 38,
   "id": "cd415569",
   "metadata": {},
   "outputs": [
    {
     "data": {
      "text/plain": [
       "'rakrasvedaham'"
      ]
     },
     "execution_count": 38,
     "metadata": {},
     "output_type": "execute_result"
    }
   ],
   "source": [
    "n[-1::-1]"
   ]
  },
  {
   "cell_type": "code",
   "execution_count": 40,
   "id": "64a63474",
   "metadata": {},
   "outputs": [],
   "source": [
    "o=\"television\""
   ]
  },
  {
   "cell_type": "code",
   "execution_count": 41,
   "id": "f230fad7",
   "metadata": {},
   "outputs": [
    {
     "data": {
      "text/plain": [
       "''"
      ]
     },
     "execution_count": 41,
     "metadata": {},
     "output_type": "execute_result"
    }
   ],
   "source": [
    "o[-5:-9:2]"
   ]
  },
  {
   "cell_type": "code",
   "execution_count": 42,
   "id": "d33c0281",
   "metadata": {},
   "outputs": [
    {
     "data": {
      "text/plain": [
       "'ev'"
      ]
     },
     "execution_count": 42,
     "metadata": {},
     "output_type": "execute_result"
    }
   ],
   "source": [
    "o[-9:-5:3]"
   ]
  },
  {
   "cell_type": "code",
   "execution_count": 43,
   "id": "d7cbe200",
   "metadata": {},
   "outputs": [
    {
     "data": {
      "text/plain": [
       "'il'"
      ]
     },
     "execution_count": 43,
     "metadata": {},
     "output_type": "execute_result"
    }
   ],
   "source": [
    "o[-5:-9:-3]"
   ]
  },
  {
   "cell_type": "code",
   "execution_count": 44,
   "id": "b8044a25",
   "metadata": {},
   "outputs": [
    {
     "data": {
      "text/plain": [
       "''"
      ]
     },
     "execution_count": 44,
     "metadata": {},
     "output_type": "execute_result"
    }
   ],
   "source": [
    "o[-9:-5:-3]"
   ]
  },
  {
   "cell_type": "code",
   "execution_count": 45,
   "id": "c36a452d",
   "metadata": {},
   "outputs": [
    {
     "data": {
      "text/plain": [
       "''"
      ]
     },
     "execution_count": 45,
     "metadata": {},
     "output_type": "execute_result"
    }
   ],
   "source": [
    "o[5:9:-3]"
   ]
  },
  {
   "cell_type": "code",
   "execution_count": 46,
   "id": "72928c3d",
   "metadata": {},
   "outputs": [
    {
     "data": {
      "text/plain": [
       "'ns'"
      ]
     },
     "execution_count": 46,
     "metadata": {},
     "output_type": "execute_result"
    }
   ],
   "source": [
    "o[9:5:-3]"
   ]
  },
  {
   "cell_type": "code",
   "execution_count": 12,
   "id": "3aff1ac7",
   "metadata": {},
   "outputs": [],
   "source": [
    "p=\"ineuron\""
   ]
  },
  {
   "cell_type": "code",
   "execution_count": 13,
   "id": "79f1d588",
   "metadata": {},
   "outputs": [
    {
     "data": {
      "text/plain": [
       "''"
      ]
     },
     "execution_count": 13,
     "metadata": {},
     "output_type": "execute_result"
    }
   ],
   "source": [
    "p[5:0]"
   ]
  },
  {
   "cell_type": "code",
   "execution_count": 14,
   "id": "79e9a27a",
   "metadata": {},
   "outputs": [
    {
     "data": {
      "text/plain": [
       "''"
      ]
     },
     "execution_count": 14,
     "metadata": {},
     "output_type": "execute_result"
    }
   ],
   "source": [
    "p[3:0]"
   ]
  },
  {
   "cell_type": "code",
   "execution_count": 6,
   "id": "4766741d",
   "metadata": {},
   "outputs": [],
   "source": [
    "q=\"maiharsatna\""
   ]
  },
  {
   "cell_type": "code",
   "execution_count": 10,
   "id": "b61be94f",
   "metadata": {},
   "outputs": [
    {
     "ename": "TypeError",
     "evalue": "can only concatenate str (not \"int\") to str",
     "output_type": "error",
     "traceback": [
      "\u001b[1;31m---------------------------------------------------------------------------\u001b[0m",
      "\u001b[1;31mTypeError\u001b[0m                                 Traceback (most recent call last)",
      "Input \u001b[1;32mIn [10]\u001b[0m, in \u001b[0;36m<cell line: 1>\u001b[1;34m()\u001b[0m\n\u001b[1;32m----> 1\u001b[0m \u001b[43mq\u001b[49m\u001b[38;5;241;43m+\u001b[39;49m\u001b[38;5;241;43m1\u001b[39;49m\n",
      "\u001b[1;31mTypeError\u001b[0m: can only concatenate str (not \"int\") to str"
     ]
    }
   ],
   "source": [
    "q+1"
   ]
  },
  {
   "cell_type": "code",
   "execution_count": 11,
   "id": "4520cfa8",
   "metadata": {},
   "outputs": [
    {
     "data": {
      "text/plain": [
       "'maiharsatna1'"
      ]
     },
     "execution_count": 11,
     "metadata": {},
     "output_type": "execute_result"
    }
   ],
   "source": [
    "q+'1'"
   ]
  },
  {
   "cell_type": "code",
   "execution_count": 12,
   "id": "27472246",
   "metadata": {},
   "outputs": [
    {
     "data": {
      "text/plain": [
       "'maiharsatna1'"
      ]
     },
     "execution_count": 12,
     "metadata": {},
     "output_type": "execute_result"
    }
   ],
   "source": [
    "q+\"1\""
   ]
  },
  {
   "cell_type": "code",
   "execution_count": 16,
   "id": "c3b30a1c",
   "metadata": {},
   "outputs": [
    {
     "data": {
      "text/plain": [
       "'maiharsatna1'"
      ]
     },
     "execution_count": 16,
     "metadata": {},
     "output_type": "execute_result"
    }
   ],
   "source": [
    "q+str(1)"
   ]
  },
  {
   "cell_type": "code",
   "execution_count": 17,
   "id": "66cd2e0a",
   "metadata": {},
   "outputs": [
    {
     "data": {
      "text/plain": [
       "'sudh415475242444545'"
      ]
     },
     "execution_count": 17,
     "metadata": {},
     "output_type": "execute_result"
    }
   ],
   "source": [
    "\"sudh\"+\"415475242444545\""
   ]
  },
  {
   "cell_type": "code",
   "execution_count": 19,
   "id": "e7d73d96",
   "metadata": {},
   "outputs": [],
   "source": [
    "r=\"indiais loving country\""
   ]
  },
  {
   "cell_type": "code",
   "execution_count": 19,
   "id": "0459b257",
   "metadata": {},
   "outputs": [
    {
     "data": {
      "text/plain": [
       "22"
      ]
     },
     "execution_count": 19,
     "metadata": {},
     "output_type": "execute_result"
    }
   ],
   "source": [
    "len(r)"
   ]
  },
  {
   "cell_type": "code",
   "execution_count": 20,
   "id": "eec0b59c",
   "metadata": {},
   "outputs": [
    {
     "data": {
      "text/plain": [
       "'indiais loving countryindiais loving country'"
      ]
     },
     "execution_count": 20,
     "metadata": {},
     "output_type": "execute_result"
    }
   ],
   "source": [
    " r*2"
   ]
  },
  {
   "cell_type": "code",
   "execution_count": 1,
   "id": "9c4d74eb",
   "metadata": {},
   "outputs": [],
   "source": [
    "s=\"rajkishor\""
   ]
  },
  {
   "cell_type": "code",
   "execution_count": 23,
   "id": "25ffb98b",
   "metadata": {},
   "outputs": [
    {
     "data": {
      "text/plain": [
       "1"
      ]
     },
     "execution_count": 23,
     "metadata": {},
     "output_type": "execute_result"
    }
   ],
   "source": [
    "s.count('s')"
   ]
  },
  {
   "cell_type": "code",
   "execution_count": 24,
   "id": "eb2edfa9",
   "metadata": {},
   "outputs": [
    {
     "data": {
      "text/plain": [
       "2"
      ]
     },
     "execution_count": 24,
     "metadata": {},
     "output_type": "execute_result"
    }
   ],
   "source": [
    "s.count(\"r\")"
   ]
  },
  {
   "cell_type": "code",
   "execution_count": 25,
   "id": "06ee0c6d",
   "metadata": {},
   "outputs": [
    {
     "data": {
      "text/plain": [
       "1"
      ]
     },
     "execution_count": 25,
     "metadata": {},
     "output_type": "execute_result"
    }
   ],
   "source": [
    "s.count('ki')"
   ]
  },
  {
   "cell_type": "code",
   "execution_count": 27,
   "id": "176c82cc",
   "metadata": {},
   "outputs": [
    {
     "data": {
      "text/plain": [
       "0"
      ]
     },
     "execution_count": 27,
     "metadata": {},
     "output_type": "execute_result"
    }
   ],
   "source": [
    "s.count('kim')"
   ]
  },
  {
   "cell_type": "code",
   "execution_count": 24,
   "id": "c20e307d",
   "metadata": {},
   "outputs": [
    {
     "data": {
      "text/plain": [
       "['', 'ajkisho', '']"
      ]
     },
     "execution_count": 24,
     "metadata": {},
     "output_type": "execute_result"
    }
   ],
   "source": [
    "s.split(\"r\")"
   ]
  },
  {
   "cell_type": "code",
   "execution_count": 31,
   "id": "6766c81c",
   "metadata": {},
   "outputs": [
    {
     "data": {
      "text/plain": [
       "list"
      ]
     },
     "execution_count": 31,
     "metadata": {},
     "output_type": "execute_result"
    }
   ],
   "source": [
    "type (s.split(\"r\"))"
   ]
  },
  {
   "cell_type": "code",
   "execution_count": 2,
   "id": "5623237d",
   "metadata": {},
   "outputs": [],
   "source": [
    "t=\"ichy Dercos Aminexil Clinical 5 Anti-Hair Loss Ampoules Women x21. ₹6,634.96. Special Price ₹4,644.47. Add to Cart. ISDIN FotoUltra Age Repair Fusion Water SPF50 50ml. ₹2,870.27. Special Price ₹2,009.19. Add to Cart. Phyto RE30 Anti White Hair Treatment 50ml.\""
   ]
  },
  {
   "cell_type": "code",
   "execution_count": 33,
   "id": "161080f9",
   "metadata": {},
   "outputs": [
    {
     "data": {
      "text/plain": [
       "['ichy',\n",
       " 'Dercos',\n",
       " 'Aminexil',\n",
       " 'Clinical',\n",
       " '5',\n",
       " 'Anti-Hair',\n",
       " 'Loss',\n",
       " 'Ampoules',\n",
       " 'Women',\n",
       " 'x21.',\n",
       " '₹6,634.96.',\n",
       " 'Special',\n",
       " 'Price',\n",
       " '₹4,644.47.',\n",
       " 'Add',\n",
       " 'to',\n",
       " 'Cart.',\n",
       " 'ISDIN',\n",
       " 'FotoUltra',\n",
       " 'Age',\n",
       " 'Repair',\n",
       " 'Fusion',\n",
       " 'Water',\n",
       " 'SPF50',\n",
       " '50ml.',\n",
       " '₹2,870.27.',\n",
       " 'Special',\n",
       " 'Price',\n",
       " '₹2,009.19.',\n",
       " 'Add',\n",
       " 'to',\n",
       " 'Cart.',\n",
       " 'Phyto',\n",
       " 'RE30',\n",
       " 'Anti',\n",
       " 'White',\n",
       " 'Hair',\n",
       " 'Treatment',\n",
       " '50ml.']"
      ]
     },
     "execution_count": 33,
     "metadata": {},
     "output_type": "execute_result"
    }
   ],
   "source": [
    "t.split(' ')"
   ]
  },
  {
   "cell_type": "code",
   "execution_count": 2,
   "id": "fafe2ef1",
   "metadata": {},
   "outputs": [
    {
     "data": {
      "text/plain": [
       "'ICHY DERCOS AMINEXIL CLINICAL 5 ANTI-HAIR LOSS AMPOULES WOMEN X21. ₹6,634.96. SPECIAL PRICE ₹4,644.47. ADD TO CART. ISDIN FOTOULTRA AGE REPAIR FUSION WATER SPF50 50ML. ₹2,870.27. SPECIAL PRICE ₹2,009.19. ADD TO CART. PHYTO RE30 ANTI WHITE HAIR TREATMENT 50ML.'"
      ]
     },
     "execution_count": 2,
     "metadata": {},
     "output_type": "execute_result"
    }
   ],
   "source": [
    "t.upper()"
   ]
  },
  {
   "cell_type": "code",
   "execution_count": 3,
   "id": "e80a0fb0",
   "metadata": {},
   "outputs": [
    {
     "data": {
      "text/plain": [
       "'ichy dercos aminexil clinical 5 anti-hair loss ampoules women x21. ₹6,634.96. special price ₹4,644.47. add to cart. isdin fotoultra age repair fusion water spf50 50ml. ₹2,870.27. special price ₹2,009.19. add to cart. phyto re30 anti white hair treatment 50ml.'"
      ]
     },
     "execution_count": 3,
     "metadata": {},
     "output_type": "execute_result"
    }
   ],
   "source": [
    "t.lower()"
   ]
  },
  {
   "cell_type": "code",
   "execution_count": 4,
   "id": "9f91eb79",
   "metadata": {},
   "outputs": [],
   "source": [
    "t=t.upper()"
   ]
  },
  {
   "cell_type": "code",
   "execution_count": 5,
   "id": "4e33da7a",
   "metadata": {},
   "outputs": [
    {
     "data": {
      "text/plain": [
       "'ICHY DERCOS AMINEXIL CLINICAL 5 ANTI-HAIR LOSS AMPOULES WOMEN X21. ₹6,634.96. SPECIAL PRICE ₹4,644.47. ADD TO CART. ISDIN FOTOULTRA AGE REPAIR FUSION WATER SPF50 50ML. ₹2,870.27. SPECIAL PRICE ₹2,009.19. ADD TO CART. PHYTO RE30 ANTI WHITE HAIR TREATMENT 50ML.'"
      ]
     },
     "execution_count": 5,
     "metadata": {},
     "output_type": "execute_result"
    }
   ],
   "source": [
    "t"
   ]
  },
  {
   "cell_type": "code",
   "execution_count": 3,
   "id": "56fdc88b",
   "metadata": {},
   "outputs": [],
   "source": [
    "u=\"sudhanshu kumar\""
   ]
  },
  {
   "cell_type": "code",
   "execution_count": 6,
   "id": "2ce673eb",
   "metadata": {},
   "outputs": [
    {
     "data": {
      "text/plain": [
       "'Sudhanshu Kumar'"
      ]
     },
     "execution_count": 6,
     "metadata": {},
     "output_type": "execute_result"
    }
   ],
   "source": [
    "u.title()"
   ]
  },
  {
   "cell_type": "code",
   "execution_count": 7,
   "id": "d9a10308",
   "metadata": {},
   "outputs": [
    {
     "data": {
      "text/plain": [
       "'Sudhanshu kumar'"
      ]
     },
     "execution_count": 7,
     "metadata": {},
     "output_type": "execute_result"
    }
   ],
   "source": [
    "u.capitalize()"
   ]
  },
  {
   "cell_type": "code",
   "execution_count": 4,
   "id": "6cc92b79",
   "metadata": {},
   "outputs": [],
   "source": [
    "v=\"SHUbhM kumAR\""
   ]
  },
  {
   "cell_type": "code",
   "execution_count": 9,
   "id": "b33afd46",
   "metadata": {},
   "outputs": [
    {
     "data": {
      "text/plain": [
       "'shuBHm KUMar'"
      ]
     },
     "execution_count": 9,
     "metadata": {},
     "output_type": "execute_result"
    }
   ],
   "source": [
    "v.swapcase()"
   ]
  },
  {
   "cell_type": "code",
   "execution_count": 21,
   "id": "2a428364",
   "metadata": {},
   "outputs": [
    {
     "data": {
      "text/plain": [
       "'RAmuk MhbUHS'"
      ]
     },
     "execution_count": 21,
     "metadata": {},
     "output_type": "execute_result"
    }
   ],
   "source": [
    "\"\".join(reversed(v))"
   ]
  },
  {
   "cell_type": "code",
   "execution_count": 22,
   "id": "414aedce",
   "metadata": {},
   "outputs": [
    {
     "data": {
      "text/plain": [
       "'RAmuk MhbUHS'"
      ]
     },
     "execution_count": 22,
     "metadata": {},
     "output_type": "execute_result"
    }
   ],
   "source": [
    "''.join(reversed(v))"
   ]
  },
  {
   "cell_type": "code",
   "execution_count": 23,
   "id": "3eb3b301",
   "metadata": {},
   "outputs": [
    {
     "data": {
      "text/plain": [
       "'RAmuk MhbUHS'"
      ]
     },
     "execution_count": 23,
     "metadata": {},
     "output_type": "execute_result"
    }
   ],
   "source": [
    "v[::-1]"
   ]
  },
  {
   "cell_type": "code",
   "execution_count": 24,
   "id": "13e79eab",
   "metadata": {},
   "outputs": [
    {
     "data": {
      "text/plain": [
       "'R'"
      ]
     },
     "execution_count": 24,
     "metadata": {},
     "output_type": "execute_result"
    }
   ],
   "source": [
    "v[-1::]"
   ]
  },
  {
   "cell_type": "code",
   "execution_count": 5,
   "id": "c4ef7a89",
   "metadata": {},
   "outputs": [],
   "source": [
    "w=\"      chandani    \""
   ]
  },
  {
   "cell_type": "code",
   "execution_count": 27,
   "id": "2a3fa389",
   "metadata": {},
   "outputs": [
    {
     "data": {
      "text/plain": [
       "'chandani'"
      ]
     },
     "execution_count": 27,
     "metadata": {},
     "output_type": "execute_result"
    }
   ],
   "source": [
    "w.strip()"
   ]
  },
  {
   "cell_type": "code",
   "execution_count": 28,
   "id": "59de5334",
   "metadata": {},
   "outputs": [
    {
     "data": {
      "text/plain": [
       "'chandani    '"
      ]
     },
     "execution_count": 28,
     "metadata": {},
     "output_type": "execute_result"
    }
   ],
   "source": [
    "w.lstrip()"
   ]
  },
  {
   "cell_type": "code",
   "execution_count": 29,
   "id": "7506b0f4",
   "metadata": {},
   "outputs": [
    {
     "data": {
      "text/plain": [
       "'      chandani'"
      ]
     },
     "execution_count": 29,
     "metadata": {},
     "output_type": "execute_result"
    }
   ],
   "source": [
    "w.rstrip()"
   ]
  },
  {
   "cell_type": "code",
   "execution_count": 6,
   "id": "53e3703a",
   "metadata": {},
   "outputs": [],
   "source": [
    "x=\"chandanisoni\""
   ]
  },
  {
   "cell_type": "code",
   "execution_count": 37,
   "id": "b43bfcb3",
   "metadata": {},
   "outputs": [
    {
     "data": {
      "text/plain": [
       "'c    h    a    n    d    a    n    i    s    o    n    i'"
      ]
     },
     "execution_count": 37,
     "metadata": {},
     "output_type": "execute_result"
    }
   ],
   "source": [
    "\"    \".join(x)"
   ]
  },
  {
   "cell_type": "code",
   "execution_count": 39,
   "id": "1862f394",
   "metadata": {},
   "outputs": [
    {
     "data": {
      "text/plain": [
       "'c   h   a   n   d   a   n   i   s   o   n   i'"
      ]
     },
     "execution_count": 39,
     "metadata": {},
     "output_type": "execute_result"
    }
   ],
   "source": [
    "'   '.join(x)"
   ]
  },
  {
   "cell_type": "code",
   "execution_count": 40,
   "id": "4bb4a966",
   "metadata": {},
   "outputs": [
    {
     "data": {
      "text/plain": [
       "'cjhjajnjdjajnjijsjojnji'"
      ]
     },
     "execution_count": 40,
     "metadata": {},
     "output_type": "execute_result"
    }
   ],
   "source": [
    "\"j\".join(x)"
   ]
  },
  {
   "cell_type": "code",
   "execution_count": 44,
   "id": "26a714f3",
   "metadata": {},
   "outputs": [
    {
     "data": {
      "text/plain": [
       "'cahaaanadaaanaiasaoanai'"
      ]
     },
     "execution_count": 44,
     "metadata": {},
     "output_type": "execute_result"
    }
   ],
   "source": [
    "\"a\" .join('chandanisoni')"
   ]
  },
  {
   "cell_type": "code",
   "execution_count": 7,
   "id": "a6af8509",
   "metadata": {},
   "outputs": [],
   "source": [
    "y=\"kanhaji\"\n"
   ]
  },
  {
   "cell_type": "code",
   "execution_count": 46,
   "id": "6cce010c",
   "metadata": {},
   "outputs": [
    {
     "data": {
      "text/plain": [
       "'rrrrrrrrrkanhajirrrrrrrrr'"
      ]
     },
     "execution_count": 46,
     "metadata": {},
     "output_type": "execute_result"
    }
   ],
   "source": [
    "y.center(25,'r')"
   ]
  },
  {
   "cell_type": "code",
   "execution_count": 47,
   "id": "b0bc9f7c",
   "metadata": {},
   "outputs": [
    {
     "data": {
      "text/plain": [
       "False"
      ]
     },
     "execution_count": 47,
     "metadata": {},
     "output_type": "execute_result"
    }
   ],
   "source": [
    "y.isupper()"
   ]
  },
  {
   "cell_type": "code",
   "execution_count": 48,
   "id": "d7908f15",
   "metadata": {},
   "outputs": [],
   "source": [
    "y1=\"KANHAJI\""
   ]
  },
  {
   "cell_type": "code",
   "execution_count": 50,
   "id": "1ab43ccb",
   "metadata": {},
   "outputs": [
    {
     "data": {
      "text/plain": [
       "True"
      ]
     },
     "execution_count": 50,
     "metadata": {},
     "output_type": "execute_result"
    }
   ],
   "source": [
    "y1.isupper()"
   ]
  },
  {
   "cell_type": "code",
   "execution_count": 52,
   "id": "e67a0822",
   "metadata": {},
   "outputs": [
    {
     "data": {
      "text/plain": [
       "True"
      ]
     },
     "execution_count": 52,
     "metadata": {},
     "output_type": "execute_result"
    }
   ],
   "source": [
    "y.islower()"
   ]
  },
  {
   "cell_type": "code",
   "execution_count": 53,
   "id": "8992ac92",
   "metadata": {},
   "outputs": [
    {
     "data": {
      "text/plain": [
       "False"
      ]
     },
     "execution_count": 53,
     "metadata": {},
     "output_type": "execute_result"
    }
   ],
   "source": [
    "y1.islower()"
   ]
  },
  {
   "cell_type": "code",
   "execution_count": 8,
   "id": "c1c84481",
   "metadata": {},
   "outputs": [],
   "source": [
    "z=\"mahadev\"              "
   ]
  },
  {
   "cell_type": "code",
   "execution_count": 55,
   "id": "ab3e4eb4",
   "metadata": {},
   "outputs": [
    {
     "data": {
      "text/plain": [
       "False"
      ]
     },
     "execution_count": 55,
     "metadata": {},
     "output_type": "execute_result"
    }
   ],
   "source": [
    "z.isspace()"
   ]
  },
  {
   "cell_type": "code",
   "execution_count": 56,
   "id": "d81f93ae",
   "metadata": {},
   "outputs": [],
   "source": [
    "z1=\"  mahadev   \""
   ]
  },
  {
   "cell_type": "code",
   "execution_count": 57,
   "id": "aba7cae2",
   "metadata": {},
   "outputs": [
    {
     "data": {
      "text/plain": [
       "False"
      ]
     },
     "execution_count": 57,
     "metadata": {},
     "output_type": "execute_result"
    }
   ],
   "source": [
    "z1.isspace()"
   ]
  },
  {
   "cell_type": "code",
   "execution_count": 58,
   "id": "3f299a56",
   "metadata": {},
   "outputs": [],
   "source": [
    "z2=\"m   a   h  a   d   e   v\""
   ]
  },
  {
   "cell_type": "code",
   "execution_count": 59,
   "id": "0aa92a96",
   "metadata": {},
   "outputs": [
    {
     "data": {
      "text/plain": [
       "False"
      ]
     },
     "execution_count": 59,
     "metadata": {},
     "output_type": "execute_result"
    }
   ],
   "source": [
    "z2.isspace()"
   ]
  },
  {
   "cell_type": "code",
   "execution_count": 60,
   "id": "0f90b4c8",
   "metadata": {},
   "outputs": [],
   "source": [
    "z3=\"     \""
   ]
  },
  {
   "cell_type": "code",
   "execution_count": 61,
   "id": "943cdf94",
   "metadata": {},
   "outputs": [
    {
     "data": {
      "text/plain": [
       "True"
      ]
     },
     "execution_count": 61,
     "metadata": {},
     "output_type": "execute_result"
    }
   ],
   "source": [
    "z3.isspace()"
   ]
  },
  {
   "cell_type": "code",
   "execution_count": 9,
   "id": "83c674c6",
   "metadata": {},
   "outputs": [],
   "source": [
    "a=\"sarsar\""
   ]
  },
  {
   "cell_type": "code",
   "execution_count": 63,
   "id": "0ac16247",
   "metadata": {},
   "outputs": [
    {
     "data": {
      "text/plain": [
       "False"
      ]
     },
     "execution_count": 63,
     "metadata": {},
     "output_type": "execute_result"
    }
   ],
   "source": [
    "a.isdigit()"
   ]
  },
  {
   "cell_type": "code",
   "execution_count": 64,
   "id": "426ec076",
   "metadata": {},
   "outputs": [],
   "source": [
    "a1=\"15642\""
   ]
  },
  {
   "cell_type": "code",
   "execution_count": 65,
   "id": "bb54251a",
   "metadata": {},
   "outputs": [
    {
     "data": {
      "text/plain": [
       "True"
      ]
     },
     "execution_count": 65,
     "metadata": {},
     "output_type": "execute_result"
    }
   ],
   "source": [
    "a1.isdigit()\n"
   ]
  },
  {
   "cell_type": "code",
   "execution_count": 66,
   "id": "2487acf8",
   "metadata": {},
   "outputs": [],
   "source": [
    "a2=\"41111641bfhhbx\""
   ]
  },
  {
   "cell_type": "code",
   "execution_count": 67,
   "id": "dcd30411",
   "metadata": {},
   "outputs": [
    {
     "data": {
      "text/plain": [
       "False"
      ]
     },
     "execution_count": 67,
     "metadata": {},
     "output_type": "execute_result"
    }
   ],
   "source": [
    "a2.isdigit()"
   ]
  },
  {
   "cell_type": "code",
   "execution_count": 10,
   "id": "a5cbb3fe",
   "metadata": {},
   "outputs": [],
   "source": [
    "b=\"mahadevsarkar\""
   ]
  },
  {
   "cell_type": "code",
   "execution_count": 69,
   "id": "78b5a21e",
   "metadata": {},
   "outputs": [
    {
     "data": {
      "text/plain": [
       "True"
      ]
     },
     "execution_count": 69,
     "metadata": {},
     "output_type": "execute_result"
    }
   ],
   "source": [
    "b.isalnum()"
   ]
  },
  {
   "cell_type": "code",
   "execution_count": 70,
   "id": "af6a6fae",
   "metadata": {},
   "outputs": [
    {
     "data": {
      "text/plain": [
       "True"
      ]
     },
     "execution_count": 70,
     "metadata": {},
     "output_type": "execute_result"
    }
   ],
   "source": [
    "b.isalpha()"
   ]
  },
  {
   "cell_type": "code",
   "execution_count": 71,
   "id": "d748cb72",
   "metadata": {},
   "outputs": [],
   "source": [
    "b1=\"mahadev123\""
   ]
  },
  {
   "cell_type": "code",
   "execution_count": 72,
   "id": "8ba202e0",
   "metadata": {},
   "outputs": [
    {
     "data": {
      "text/plain": [
       "True"
      ]
     },
     "execution_count": 72,
     "metadata": {},
     "output_type": "execute_result"
    }
   ],
   "source": [
    "b1.isalnum()"
   ]
  },
  {
   "cell_type": "code",
   "execution_count": 74,
   "id": "42ff6841",
   "metadata": {},
   "outputs": [
    {
     "data": {
      "text/plain": [
       "False"
      ]
     },
     "execution_count": 74,
     "metadata": {},
     "output_type": "execute_result"
    }
   ],
   "source": [
    "b1.isalpha()"
   ]
  },
  {
   "cell_type": "code",
   "execution_count": 75,
   "id": "74a53aa1",
   "metadata": {},
   "outputs": [],
   "source": [
    "b2=\"6523236\""
   ]
  },
  {
   "cell_type": "code",
   "execution_count": 76,
   "id": "e61911a2",
   "metadata": {},
   "outputs": [
    {
     "data": {
      "text/plain": [
       "True"
      ]
     },
     "execution_count": 76,
     "metadata": {},
     "output_type": "execute_result"
    }
   ],
   "source": [
    "b2.isalnum()"
   ]
  },
  {
   "cell_type": "code",
   "execution_count": 77,
   "id": "56869b24",
   "metadata": {},
   "outputs": [
    {
     "data": {
      "text/plain": [
       "False"
      ]
     },
     "execution_count": 77,
     "metadata": {},
     "output_type": "execute_result"
    }
   ],
   "source": [
    "b2.isalpha()"
   ]
  },
  {
   "cell_type": "code",
   "execution_count": 11,
   "id": "21b24d8e",
   "metadata": {},
   "outputs": [],
   "source": [
    "c=\"rashmi\""
   ]
  },
  {
   "cell_type": "code",
   "execution_count": 80,
   "id": "e0d4ad3f",
   "metadata": {},
   "outputs": [
    {
     "data": {
      "text/plain": [
       "False"
      ]
     },
     "execution_count": 80,
     "metadata": {},
     "output_type": "execute_result"
    }
   ],
   "source": [
    "c.startswith('i')"
   ]
  },
  {
   "cell_type": "code",
   "execution_count": 81,
   "id": "85b6d0e3",
   "metadata": {},
   "outputs": [
    {
     "data": {
      "text/plain": [
       "False"
      ]
     },
     "execution_count": 81,
     "metadata": {},
     "output_type": "execute_result"
    }
   ],
   "source": [
    "c.startswith('R')"
   ]
  },
  {
   "cell_type": "code",
   "execution_count": 93,
   "id": "13e8ab79",
   "metadata": {},
   "outputs": [
    {
     "data": {
      "text/plain": [
       "True"
      ]
     },
     "execution_count": 93,
     "metadata": {},
     "output_type": "execute_result"
    }
   ],
   "source": [
    "c.startswith(\"\")"
   ]
  },
  {
   "cell_type": "code",
   "execution_count": 82,
   "id": "38622749",
   "metadata": {},
   "outputs": [
    {
     "data": {
      "text/plain": [
       "True"
      ]
     },
     "execution_count": 82,
     "metadata": {},
     "output_type": "execute_result"
    }
   ],
   "source": [
    "c.startswith('r')"
   ]
  },
  {
   "cell_type": "code",
   "execution_count": 83,
   "id": "dcacd8ea",
   "metadata": {},
   "outputs": [
    {
     "data": {
      "text/plain": [
       "True"
      ]
     },
     "execution_count": 83,
     "metadata": {},
     "output_type": "execute_result"
    }
   ],
   "source": [
    "c.endswith('i')"
   ]
  },
  {
   "cell_type": "code",
   "execution_count": 84,
   "id": "4908ccb9",
   "metadata": {},
   "outputs": [],
   "source": [
    "d=\"companyname\""
   ]
  },
  {
   "cell_type": "code",
   "execution_count": 85,
   "id": "5d8f9d2b",
   "metadata": {},
   "outputs": [
    {
     "data": {
      "text/plain": [
       "False"
      ]
     },
     "execution_count": 85,
     "metadata": {},
     "output_type": "execute_result"
    }
   ],
   "source": [
    "d.isdigit()"
   ]
  },
  {
   "cell_type": "code",
   "execution_count": 86,
   "id": "e588d788",
   "metadata": {},
   "outputs": [
    {
     "data": {
      "text/plain": [
       "False"
      ]
     },
     "execution_count": 86,
     "metadata": {},
     "output_type": "execute_result"
    }
   ],
   "source": [
    "d.isnumeric()"
   ]
  },
  {
   "cell_type": "code",
   "execution_count": 87,
   "id": "837e8851",
   "metadata": {},
   "outputs": [],
   "source": [
    "d1=\"chgfnh15644\""
   ]
  },
  {
   "cell_type": "code",
   "execution_count": 88,
   "id": "fd83ccf7",
   "metadata": {},
   "outputs": [
    {
     "data": {
      "text/plain": [
       "False"
      ]
     },
     "execution_count": 88,
     "metadata": {},
     "output_type": "execute_result"
    }
   ],
   "source": [
    "d1.isdigit()"
   ]
  },
  {
   "cell_type": "code",
   "execution_count": 89,
   "id": "17b54c66",
   "metadata": {},
   "outputs": [
    {
     "data": {
      "text/plain": [
       "False"
      ]
     },
     "execution_count": 89,
     "metadata": {},
     "output_type": "execute_result"
    }
   ],
   "source": [
    "d1.isnumeric()"
   ]
  },
  {
   "cell_type": "code",
   "execution_count": 90,
   "id": "ce019895",
   "metadata": {},
   "outputs": [],
   "source": [
    "d2=\"131645\""
   ]
  },
  {
   "cell_type": "code",
   "execution_count": 91,
   "id": "085d172b",
   "metadata": {},
   "outputs": [
    {
     "data": {
      "text/plain": [
       "True"
      ]
     },
     "execution_count": 91,
     "metadata": {},
     "output_type": "execute_result"
    }
   ],
   "source": [
    "d2.isdigit()"
   ]
  },
  {
   "cell_type": "code",
   "execution_count": 92,
   "id": "a06211ad",
   "metadata": {},
   "outputs": [
    {
     "data": {
      "text/plain": [
       "True"
      ]
     },
     "execution_count": 92,
     "metadata": {},
     "output_type": "execute_result"
    }
   ],
   "source": [
    "d2.isnumeric()"
   ]
  },
  {
   "cell_type": "code",
   "execution_count": 1,
   "id": "45e1ac7d",
   "metadata": {},
   "outputs": [],
   "source": [
    "e=\"chandanisoni\""
   ]
  },
  {
   "cell_type": "code",
   "execution_count": 2,
   "id": "6a4a188e",
   "metadata": {},
   "outputs": [
    {
     "data": {
      "text/plain": [
       "True"
      ]
     },
     "execution_count": 2,
     "metadata": {},
     "output_type": "execute_result"
    }
   ],
   "source": [
    "e.isascii()"
   ]
  },
  {
   "cell_type": "code",
   "execution_count": 3,
   "id": "e75995db",
   "metadata": {},
   "outputs": [],
   "source": [
    "e1=\"   chandani  \""
   ]
  },
  {
   "cell_type": "code",
   "execution_count": 4,
   "id": "08ca7201",
   "metadata": {},
   "outputs": [
    {
     "data": {
      "text/plain": [
       "True"
      ]
     },
     "execution_count": 4,
     "metadata": {},
     "output_type": "execute_result"
    }
   ],
   "source": [
    "e1.isascii()"
   ]
  },
  {
   "cell_type": "code",
   "execution_count": 5,
   "id": "baf6b6d5",
   "metadata": {},
   "outputs": [],
   "source": [
    "e2=\"chandani soni\""
   ]
  },
  {
   "cell_type": "code",
   "execution_count": 6,
   "id": "73121b38",
   "metadata": {},
   "outputs": [
    {
     "data": {
      "text/plain": [
       "True"
      ]
     },
     "execution_count": 6,
     "metadata": {},
     "output_type": "execute_result"
    }
   ],
   "source": [
    "e2.isascii()"
   ]
  },
  {
   "cell_type": "code",
   "execution_count": 9,
   "id": "f91ff5c1",
   "metadata": {},
   "outputs": [],
   "source": [
    "e3='anilsoni123 '"
   ]
  },
  {
   "cell_type": "code",
   "execution_count": 12,
   "id": "438d04ec",
   "metadata": {},
   "outputs": [
    {
     "data": {
      "text/plain": [
       "True"
      ]
     },
     "execution_count": 12,
     "metadata": {},
     "output_type": "execute_result"
    }
   ],
   "source": [
    "e3.isascii()"
   ]
  },
  {
   "cell_type": "code",
   "execution_count": 12,
   "id": "afe38aa0",
   "metadata": {},
   "outputs": [],
   "source": [
    "f=\"tcghfdjfgj\\tjhgghjhj\\thfgdhg\""
   ]
  },
  {
   "cell_type": "code",
   "execution_count": 11,
   "id": "2bc4a4d8",
   "metadata": {},
   "outputs": [
    {
     "data": {
      "text/plain": [
       "'tcghfdjfgj      jhgghjhj        hfgdhg'"
      ]
     },
     "execution_count": 11,
     "metadata": {},
     "output_type": "execute_result"
    }
   ],
   "source": [
    "f.expandtabs()"
   ]
  },
  {
   "cell_type": "code",
   "execution_count": 6,
   "id": "72cfb99d",
   "metadata": {},
   "outputs": [],
   "source": [
    "f1='chandani\\suraj\\jyoti'"
   ]
  },
  {
   "cell_type": "code",
   "execution_count": 7,
   "id": "91d38094",
   "metadata": {},
   "outputs": [
    {
     "data": {
      "text/plain": [
       "'chandani\\\\suraj\\\\jyoti'"
      ]
     },
     "execution_count": 7,
     "metadata": {},
     "output_type": "execute_result"
    }
   ],
   "source": [
    "f1.expandtabs()"
   ]
  },
  {
   "cell_type": "code",
   "execution_count": 8,
   "id": "8c7ece6c",
   "metadata": {},
   "outputs": [],
   "source": [
    "f2=\"chandani\\tsuraj\\tjyoti\""
   ]
  },
  {
   "cell_type": "code",
   "execution_count": 9,
   "id": "982604a3",
   "metadata": {},
   "outputs": [
    {
     "data": {
      "text/plain": [
       "'chandani        suraj   jyoti'"
      ]
     },
     "execution_count": 9,
     "metadata": {},
     "output_type": "execute_result"
    }
   ],
   "source": [
    "f2.expandtabs()"
   ]
  },
  {
   "cell_type": "code",
   "execution_count": null,
   "id": "2c2bdaea",
   "metadata": {},
   "outputs": [],
   "source": [
    "s=\"this is My First Python programming class and i am learNING python string and its funtion \"\n",
    "1. try to extract data from index one to index 300 with a jump of 3\n",
    "2. try to reverse a string without using using reverse funtion\n",
    "3. try to split a string after conversion of entire string in uppercase\n",
    "4. try to convert the whole string into lower case\n",
    "5. try to capitalize the whole string\n",
    "6. write a diferance between isalnum() and isalpha()\n",
    "7. try to give an example of expand tab\n",
    "8. give an example of strip lstrip and rstrip\n",
    "9. replace a string charector by another charector by taking your own example\n",
    "10. try to give a defination of string center funtion with and example\n",
    "11. write your own defination of compiler and interpretor without copy paste from internat in your own language\n",
    "12. python is a interpreted of compiled language give a clear answer with your understanding \n",
    "13. try to write a usecase of python with your understanding\n"
   ]
  },
  {
   "cell_type": "code",
   "execution_count": 56,
   "id": "c3b742cf",
   "metadata": {},
   "outputs": [],
   "source": [
    "s=\"this is My First Python programming class and i am learNING python string and its funtion\""
   ]
  },
  {
   "cell_type": "code",
   "execution_count": 14,
   "id": "96c3aed9",
   "metadata": {},
   "outputs": [
    {
     "data": {
      "text/plain": [
       "'h   r tnrrmglsnimeNGyosi dtftn'"
      ]
     },
     "execution_count": 14,
     "metadata": {},
     "output_type": "execute_result"
    }
   ],
   "source": [
    "s[1:300:3]"
   ]
  },
  {
   "cell_type": "code",
   "execution_count": 15,
   "id": "e3140d89",
   "metadata": {},
   "outputs": [
    {
     "data": {
      "text/plain": [
       "'noitnuf sti dna gnirts nohtyp GNINrael ma i dna ssalc gnimmargorp nohtyP tsriF yM si siht'"
      ]
     },
     "execution_count": 15,
     "metadata": {},
     "output_type": "execute_result"
    }
   ],
   "source": [
    "s[::-1]"
   ]
  },
  {
   "cell_type": "code",
   "execution_count": 60,
   "id": "5952fcdb",
   "metadata": {},
   "outputs": [
    {
     "data": {
      "text/plain": [
       "['THIS',\n",
       " 'IS',\n",
       " 'MY',\n",
       " 'FIRST',\n",
       " 'PYTHON',\n",
       " 'PROGRAMMING',\n",
       " 'CLASS',\n",
       " 'AND',\n",
       " 'I',\n",
       " 'AM',\n",
       " 'LEARNING',\n",
       " 'PYTHON',\n",
       " 'STRING',\n",
       " 'AND',\n",
       " 'ITS',\n",
       " 'FUNTION']"
      ]
     },
     "execution_count": 60,
     "metadata": {},
     "output_type": "execute_result"
    }
   ],
   "source": [
    "s.upper().split(' ')"
   ]
  },
  {
   "cell_type": "code",
   "execution_count": 58,
   "id": "ccf41773",
   "metadata": {},
   "outputs": [
    {
     "data": {
      "text/plain": [
       "'THIS IS MY FIRST PYTHON PROGRAMMING CLASS AND I AM LEARNING PYTHON STRING AND ITS FUNTION'"
      ]
     },
     "execution_count": 58,
     "metadata": {},
     "output_type": "execute_result"
    }
   ],
   "source": [
    "s.upper()"
   ]
  },
  {
   "cell_type": "code",
   "execution_count": 24,
   "id": "53579346",
   "metadata": {},
   "outputs": [
    {
     "data": {
      "text/plain": [
       "'this is my first python programming class and i am learning python string and its funtion'"
      ]
     },
     "execution_count": 24,
     "metadata": {},
     "output_type": "execute_result"
    }
   ],
   "source": [
    "s.lower()"
   ]
  },
  {
   "cell_type": "code",
   "execution_count": 25,
   "id": "a09ed2d0",
   "metadata": {},
   "outputs": [
    {
     "data": {
      "text/plain": [
       "'This is my first python programming class and i am learning python string and its funtion'"
      ]
     },
     "execution_count": 25,
     "metadata": {},
     "output_type": "execute_result"
    }
   ],
   "source": [
    "s.capitalize()"
   ]
  },
  {
   "cell_type": "code",
   "execution_count": 29,
   "id": "f4db792c",
   "metadata": {},
   "outputs": [
    {
     "data": {
      "text/plain": [
       "False"
      ]
     },
     "execution_count": 29,
     "metadata": {},
     "output_type": "execute_result"
    }
   ],
   "source": [
    "s.isalnum()"
   ]
  },
  {
   "cell_type": "code",
   "execution_count": 31,
   "id": "492c39e6",
   "metadata": {},
   "outputs": [
    {
     "data": {
      "text/plain": [
       "False"
      ]
     },
     "execution_count": 31,
     "metadata": {},
     "output_type": "execute_result"
    }
   ],
   "source": [
    "s.isalpha()"
   ]
  },
  {
   "cell_type": "code",
   "execution_count": null,
   "id": "2e155be3",
   "metadata": {},
   "outputs": [],
   "source": [
    "isalnum = it means in the string alpha or numeric any one is avelabile without space in the string so string is true, otherwise false."
   ]
  },
  {
   "cell_type": "code",
   "execution_count": null,
   "id": "a03b92f1",
   "metadata": {},
   "outputs": [],
   "source": [
    "isalpha = it means in the string only alpha is avelabile without space so string is true, otherwise its false."
   ]
  },
  {
   "cell_type": "code",
   "execution_count": 32,
   "id": "ef3efaa3",
   "metadata": {},
   "outputs": [],
   "source": [
    "u=\"chandani\\tkutta\\tmohammad\""
   ]
  },
  {
   "cell_type": "code",
   "execution_count": 33,
   "id": "ff5e074b",
   "metadata": {},
   "outputs": [
    {
     "data": {
      "text/plain": [
       "'chandani        kutta   mohammad'"
      ]
     },
     "execution_count": 33,
     "metadata": {},
     "output_type": "execute_result"
    }
   ],
   "source": [
    "u.expandtabs()"
   ]
  },
  {
   "cell_type": "code",
   "execution_count": 35,
   "id": "b6ca787a",
   "metadata": {},
   "outputs": [],
   "source": [
    "v=\"    chandani     \""
   ]
  },
  {
   "cell_type": "code",
   "execution_count": 36,
   "id": "21a0de81",
   "metadata": {},
   "outputs": [
    {
     "data": {
      "text/plain": [
       "'chandani'"
      ]
     },
     "execution_count": 36,
     "metadata": {},
     "output_type": "execute_result"
    }
   ],
   "source": [
    "v.strip()"
   ]
  },
  {
   "cell_type": "code",
   "execution_count": 37,
   "id": "dbe65115",
   "metadata": {},
   "outputs": [
    {
     "data": {
      "text/plain": [
       "'chandani     '"
      ]
     },
     "execution_count": 37,
     "metadata": {},
     "output_type": "execute_result"
    }
   ],
   "source": [
    "v.lstrip()"
   ]
  },
  {
   "cell_type": "code",
   "execution_count": 38,
   "id": "17839d90",
   "metadata": {},
   "outputs": [
    {
     "data": {
      "text/plain": [
       "'    chandani'"
      ]
     },
     "execution_count": 38,
     "metadata": {},
     "output_type": "execute_result"
    }
   ],
   "source": [
    "v.rstrip()"
   ]
  },
  {
   "cell_type": "code",
   "execution_count": 61,
   "id": "28ffdf06",
   "metadata": {},
   "outputs": [
    {
     "data": {
      "text/plain": [
       "'    jhandani     '"
      ]
     },
     "execution_count": 61,
     "metadata": {},
     "output_type": "execute_result"
    }
   ],
   "source": [
    "v.replace(\"c\",\"j\")"
   ]
  },
  {
   "cell_type": "code",
   "execution_count": 54,
   "id": "61cf0fb2",
   "metadata": {},
   "outputs": [],
   "source": [
    "a=\"mahadev\""
   ]
  },
  {
   "cell_type": "code",
   "execution_count": 53,
   "id": "6663e3ba",
   "metadata": {},
   "outputs": [
    {
     "data": {
      "text/plain": [
       "'#########mahadev#########'"
      ]
     },
     "execution_count": 53,
     "metadata": {},
     "output_type": "execute_result"
    }
   ],
   "source": [
    "a.center(25,'#')"
   ]
  },
  {
   "cell_type": "code",
   "execution_count": null,
   "id": "f158666c",
   "metadata": {},
   "outputs": [],
   "source": [
    "center = it means string is fill with other charector."
   ]
  },
  {
   "cell_type": "code",
   "execution_count": null,
   "id": "ab3e4cea",
   "metadata": {},
   "outputs": [],
   "source": [
    "compiler = A compiler translates the entire source code in a single run.It consumes less time i.e., it is faster than an interpreter"
   ]
  },
  {
   "cell_type": "code",
   "execution_count": null,
   "id": "f799be37",
   "metadata": {},
   "outputs": [],
   "source": [
    "interpretor = An interpreter translates the entire source code line by line.It consumes much more time than the compiler i.e., it is slower than the compiler"
   ]
  },
  {
   "cell_type": "code",
   "execution_count": null,
   "id": "55dcb7f7",
   "metadata": {},
   "outputs": [],
   "source": [
    "python is a interpreted of compiled language,because python is use for computer language to machine language, and this is two type of language and codes to convert (translate) in other language. this is very eazy methods for coding."
   ]
  },
  {
   "cell_type": "code",
   "execution_count": null,
   "id": "380791c1",
   "metadata": {},
   "outputs": [],
   "source": [
    "usecase of python = python is used for software develepment, data science and many kind of application."
   ]
  }
 ],
 "metadata": {
  "kernelspec": {
   "display_name": "Python 3 (ipykernel)",
   "language": "python",
   "name": "python3"
  },
  "language_info": {
   "codemirror_mode": {
    "name": "ipython",
    "version": 3
   },
   "file_extension": ".py",
   "mimetype": "text/x-python",
   "name": "python",
   "nbconvert_exporter": "python",
   "pygments_lexer": "ipython3",
   "version": "3.9.12"
  }
 },
 "nbformat": 4,
 "nbformat_minor": 5
}
